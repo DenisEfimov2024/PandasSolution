{
 "cells": [
  {
   "cell_type": "markdown",
   "metadata": {
    "collapsed": false,
    "jupyter": {
     "outputs_hidden": false
    },
    "pycharm": {
     "name": "#%% md\n"
    }
   },
   "source": [
    "# Задача\n",
    "\n",
    "В приложенных файлах вы увидите данные по прохождению студентами тестов на образовательной платформе.\n",
    "Такие данные могут быть использованы для построения персонализированных ИИ-ассистентов для поддержки обучения студента.\n",
    "На текущем этапе сосредоточимся на начальном этапе — сборе и подготовке данных.\n",
    "\n",
    "**Вам необходимо:**\n",
    "Используя библиотеку pandas (или аналоги), проанализировать как можно больше характеристик, влияющих на успеваемость студентов.\n",
    "\n",
    "**Ресурсы:**\n",
    "- Данные на Kaggle (https://www.kaggle.com/competitions/riiid-test-answer-prediction/data)\n",
    "- Данные для скачивания (https://drive.google.com/drive/folders/1k0k3d-WO9kYqp0q9QG1WcmLn6mWWs0Zd?usp=sharing)\n",
    "\n",
    "Результат прислать в формате ссылки на Github с ноутбуком\n",
    "\n",
    "**Описание данных:**\n",
    "Для выполнения задания вам необходимы файлы train.csv, lectures.csv, questions.csv."
   ]
  },
  {
   "cell_type": "code",
   "execution_count": 1,
   "metadata": {
    "collapsed": false,
    "jupyter": {
     "outputs_hidden": false
    },
    "pycharm": {
     "name": "#%%\n"
    }
   },
   "outputs": [],
   "source": [
    "# Импорт необходимых библиотек:\n",
    "import matplotlib.pyplot as plt\n",
    "import pandas as pd\n",
    "import seaborn as sns"
   ]
  },
  {
   "cell_type": "markdown",
   "metadata": {
    "collapsed": false,
    "jupyter": {
     "outputs_hidden": false
    },
    "pycharm": {
     "name": "#%% md\n"
    }
   },
   "source": []
  },
  {
   "cell_type": "markdown",
   "metadata": {
    "collapsed": false,
    "jupyter": {
     "outputs_hidden": false
    },
    "pycharm": {
     "name": "#%% md\n"
    }
   },
   "source": [
    "# Обработка исходных данных"
   ]
  },
  {
   "cell_type": "markdown",
   "metadata": {
    "collapsed": false,
    "jupyter": {
     "outputs_hidden": false
    },
    "pycharm": {
     "name": "#%% md\n"
    }
   },
   "source": [
    "## train.csv\n",
    "### Описание содержимого:\n",
    "---\n",
    "1. **row_id**: (int64) Код идентификатора строки.\n",
    "---\n",
    "2. **timestamp**: (int64) Время в миллисекундах между этим взаимодействием пользователя и завершением первого события этого пользователя.\n",
    "---\n",
    "3. **user_id**: (int32) Код идентификатора пользователя.\n",
    "---\n",
    "4. **content_id**: (int16) Код идентификатора взаимодействия пользователя.\n",
    "---\n",
    "5. **content_type_id**: (int8) 0, если событие связано с вопросом, заданным пользователю, 1 — если событие связано с просмотром лекции.\n",
    "---\n",
    "6. **task_container_id**: (int16) Код идентификатора группы вопросов или лекций. Например, пользователь может увидеть три вопроса подряд, прежде чем увидеть объяснение к ним. Все эти три вопроса будут иметь одинаковый `task_container_id`.\n",
    "---\n",
    "7. **user_answer**: (int8) Ответ пользователя на вопрос, если он был. Читайте -1 как отсутствие ответа, для лекций.\n",
    "---\n",
    "8. **answered_correctly**: (int8) Указание, ответил ли пользователь правильно. Читайте -1 как отсутствие ответа, для лекций.\n",
    "---\n",
    "9. **prior_question_elapsed_time**: (float32) Среднее время в миллисекундах, которое потребовалось пользователю для ответа на каждый вопрос в предыдущей группе вопросов, игнорируя лекции между ними. Это значение отсутствует для первой группы вопросов или лекции пользователя. Время рассчитывается как среднее время, которое пользователь потратил на решение каждого вопроса в предыдущей группе.\n",
    "---\n",
    "10. **prior_question_had_explanation**: (bool) Показывает, видел ли пользователь объяснение и правильные ответы на вопросы предыдущей группы, игнорируя лекции между ними. Это значение общедоступно для всей группы вопросов и отсутствует для первой группы вопросов или лекции пользователя. Обычно первые несколько вопросов, которые видит пользователь, принадлежат диагностическому тесту, и на них не было объяснений.\n",
    "---"
   ]
  },
  {
   "cell_type": "markdown",
   "metadata": {
    "collapsed": false,
    "jupyter": {
     "outputs_hidden": false
    },
    "pycharm": {
     "name": "#%% md\n"
    }
   },
   "source": [
    "Проанализировав описание, было принято решение при считывании данных сразу указать необходимые для них типы:\n",
    "- int64\n",
    "- int32\n",
    "- int16\n",
    "- int8\n",
    "- float32\n",
    "- bool\n",
    "\n",
    "Дополнительно: исходя из описания столбца **content_type_id** (0, если событие связано с вопросом, заданным пользователю, 1 — если событие связано с просмотром лекции.), стоит заменить тип данных **int8** на **bool**.\n",
    "\n",
    "Учитывая что файл достаточно большого объёма, считаем миллион строк, для оценки данных (Учитывая объём оперативной памяти)."
   ]
  },
  {
   "cell_type": "markdown",
   "metadata": {
    "collapsed": false,
    "jupyter": {
     "outputs_hidden": false
    },
    "pycharm": {
     "name": "#%% md\n"
    }
   },
   "source": [
    "**Исходя из объёма файла, было принято решение выгружать часть данных, ограничив выборку 1 миллионом строк. Это позволяет эффективно проводить предварительный анализ, не перегружая систему. Такой объем данных достаточно для получения общего представления о структуре и закономерностях, необходимых для дальнейшей работы.**"
   ]
  },
  {
   "cell_type": "code",
   "execution_count": 2,
   "metadata": {
    "collapsed": false,
    "jupyter": {
     "outputs_hidden": false
    },
    "pycharm": {
     "name": "#%%\n"
    }
   },
   "outputs": [],
   "source": [
    "# Определение типов данных для каждого столбца в DataFrame\n",
    "dtypes = {\n",
    "    \"row_id\": \"int64\",  # Идентификатор строки, целочисленный тип (64-битный)\n",
    "    \"timestamp\": \"int64\",  # Время в миллисекундах, целочисленный тип (64-битный)\n",
    "    \"user_id\": \"int32\",  # Идентификатор пользователя, целочисленный тип (32-битный)\n",
    "    \"content_id\": \"int16\",  # Идентификатор контента, целочисленный тип (16-битный)\n",
    "    \"content_type_id\": \"boolean\",  # Тип контента (вопрос или лекция), логический тип (True/False)\n",
    "    \"task_container_id\": \"int16\",  # Идентификатор контейнера задач (группы вопросов/лекций), целочисленный тип (16-битный)\n",
    "    \"user_answer\": \"int8\",  # Ответ пользователя, целочисленный тип (8-битный)\n",
    "    \"answered_correctly\": \"int8\",  # Указание, ответил ли пользователь правильно, целочисленный тип (8-битный)\n",
    "    \"prior_question_elapsed_time\": \"float32\",  # Время на предыдущие вопросы, с плавающей точкой (32-битный)\n",
    "    \"prior_question_had_explanation\": \"boolean\"  # Была ли объяснение для предыдущего вопроса, логический тип (True/False)\n",
    "}\n",
    "\n",
    "# Чтение файла CSV с указанными типами данных и ограничением в 1 миллион строк, без столбца 'row_id'\n",
    "train = pd.read_csv(filepath_or_buffer=\"train.csv\", dtype=dtypes, nrows=1_000_000).drop('row_id', axis=1)\n",
    "\n",
    "# train содержит только первые 1 миллион строк из файла train.csv"
   ]
  },
  {
   "cell_type": "markdown",
   "metadata": {
    "collapsed": false,
    "jupyter": {
     "outputs_hidden": false
    },
    "pycharm": {
     "name": "#%% md\n"
    }
   },
   "source": [
    "**Обоснование удаления столбца `row_id` из набора данных:**\n",
    "\n",
    "- **Неинформативность для анализа**:\n",
    "   Столбец `row_id` является просто уникальным идентификатором для каждой строки в наборе данных. Этот столбец не несет полезной информации для анализа, так как его значение не влияет на закономерности, которые могут быть исследованы в данных. В контексте задач анализа данных, такие идентификаторы часто не имеют практического применения, так как не связаны с поведением пользователей или характеристиками контента.\n",
    "\n",
    "- **Уменьшение размерности**:\n",
    "   Удаление столбца с уникальными идентификаторами позволяет уменьшить размерность данных, что может ускорить выполнение алгоритмов, особенно при работе с большими наборами данных. Это также улучшает читаемость данных и позволяет сосредоточиться на более значимых столбцах.\n"
   ]
  },
  {
   "cell_type": "code",
   "execution_count": 3,
   "metadata": {
    "collapsed": false,
    "jupyter": {
     "outputs_hidden": false
    },
    "pycharm": {
     "name": "#%%\n"
    }
   },
   "outputs": [
    {
     "data": {
      "text/html": [
       "<div>\n",
       "<style scoped>\n",
       "    .dataframe tbody tr th:only-of-type {\n",
       "        vertical-align: middle;\n",
       "    }\n",
       "\n",
       "    .dataframe tbody tr th {\n",
       "        vertical-align: top;\n",
       "    }\n",
       "\n",
       "    .dataframe thead th {\n",
       "        text-align: right;\n",
       "    }\n",
       "</style>\n",
       "<table border=\"1\" class=\"dataframe\">\n",
       "  <thead>\n",
       "    <tr style=\"text-align: right;\">\n",
       "      <th></th>\n",
       "      <th>timestamp</th>\n",
       "      <th>user_id</th>\n",
       "      <th>content_id</th>\n",
       "      <th>content_type_id</th>\n",
       "      <th>task_container_id</th>\n",
       "      <th>user_answer</th>\n",
       "      <th>answered_correctly</th>\n",
       "      <th>prior_question_elapsed_time</th>\n",
       "      <th>prior_question_had_explanation</th>\n",
       "    </tr>\n",
       "  </thead>\n",
       "  <tbody>\n",
       "    <tr>\n",
       "      <th>0</th>\n",
       "      <td>0</td>\n",
       "      <td>115</td>\n",
       "      <td>5692</td>\n",
       "      <td>False</td>\n",
       "      <td>1</td>\n",
       "      <td>3</td>\n",
       "      <td>1</td>\n",
       "      <td>NaN</td>\n",
       "      <td>&lt;NA&gt;</td>\n",
       "    </tr>\n",
       "    <tr>\n",
       "      <th>1</th>\n",
       "      <td>56943</td>\n",
       "      <td>115</td>\n",
       "      <td>5716</td>\n",
       "      <td>False</td>\n",
       "      <td>2</td>\n",
       "      <td>2</td>\n",
       "      <td>1</td>\n",
       "      <td>37000.0</td>\n",
       "      <td>False</td>\n",
       "    </tr>\n",
       "    <tr>\n",
       "      <th>2</th>\n",
       "      <td>118363</td>\n",
       "      <td>115</td>\n",
       "      <td>128</td>\n",
       "      <td>False</td>\n",
       "      <td>0</td>\n",
       "      <td>0</td>\n",
       "      <td>1</td>\n",
       "      <td>55000.0</td>\n",
       "      <td>False</td>\n",
       "    </tr>\n",
       "    <tr>\n",
       "      <th>3</th>\n",
       "      <td>131167</td>\n",
       "      <td>115</td>\n",
       "      <td>7860</td>\n",
       "      <td>False</td>\n",
       "      <td>3</td>\n",
       "      <td>0</td>\n",
       "      <td>1</td>\n",
       "      <td>19000.0</td>\n",
       "      <td>False</td>\n",
       "    </tr>\n",
       "    <tr>\n",
       "      <th>4</th>\n",
       "      <td>137965</td>\n",
       "      <td>115</td>\n",
       "      <td>7922</td>\n",
       "      <td>False</td>\n",
       "      <td>4</td>\n",
       "      <td>1</td>\n",
       "      <td>1</td>\n",
       "      <td>11000.0</td>\n",
       "      <td>False</td>\n",
       "    </tr>\n",
       "    <tr>\n",
       "      <th>5</th>\n",
       "      <td>157063</td>\n",
       "      <td>115</td>\n",
       "      <td>156</td>\n",
       "      <td>False</td>\n",
       "      <td>5</td>\n",
       "      <td>2</td>\n",
       "      <td>1</td>\n",
       "      <td>5000.0</td>\n",
       "      <td>False</td>\n",
       "    </tr>\n",
       "    <tr>\n",
       "      <th>6</th>\n",
       "      <td>176092</td>\n",
       "      <td>115</td>\n",
       "      <td>51</td>\n",
       "      <td>False</td>\n",
       "      <td>6</td>\n",
       "      <td>0</td>\n",
       "      <td>1</td>\n",
       "      <td>17000.0</td>\n",
       "      <td>False</td>\n",
       "    </tr>\n",
       "    <tr>\n",
       "      <th>7</th>\n",
       "      <td>194190</td>\n",
       "      <td>115</td>\n",
       "      <td>50</td>\n",
       "      <td>False</td>\n",
       "      <td>7</td>\n",
       "      <td>3</td>\n",
       "      <td>1</td>\n",
       "      <td>17000.0</td>\n",
       "      <td>False</td>\n",
       "    </tr>\n",
       "    <tr>\n",
       "      <th>8</th>\n",
       "      <td>212463</td>\n",
       "      <td>115</td>\n",
       "      <td>7896</td>\n",
       "      <td>False</td>\n",
       "      <td>8</td>\n",
       "      <td>2</td>\n",
       "      <td>1</td>\n",
       "      <td>16000.0</td>\n",
       "      <td>False</td>\n",
       "    </tr>\n",
       "    <tr>\n",
       "      <th>9</th>\n",
       "      <td>230983</td>\n",
       "      <td>115</td>\n",
       "      <td>7863</td>\n",
       "      <td>False</td>\n",
       "      <td>9</td>\n",
       "      <td>0</td>\n",
       "      <td>1</td>\n",
       "      <td>16000.0</td>\n",
       "      <td>False</td>\n",
       "    </tr>\n",
       "  </tbody>\n",
       "</table>\n",
       "</div>"
      ],
      "text/plain": [
       "   timestamp  user_id  content_id  content_type_id  task_container_id  \\\n",
       "0          0      115        5692            False                  1   \n",
       "1      56943      115        5716            False                  2   \n",
       "2     118363      115         128            False                  0   \n",
       "3     131167      115        7860            False                  3   \n",
       "4     137965      115        7922            False                  4   \n",
       "5     157063      115         156            False                  5   \n",
       "6     176092      115          51            False                  6   \n",
       "7     194190      115          50            False                  7   \n",
       "8     212463      115        7896            False                  8   \n",
       "9     230983      115        7863            False                  9   \n",
       "\n",
       "   user_answer  answered_correctly  prior_question_elapsed_time  \\\n",
       "0            3                   1                          NaN   \n",
       "1            2                   1                      37000.0   \n",
       "2            0                   1                      55000.0   \n",
       "3            0                   1                      19000.0   \n",
       "4            1                   1                      11000.0   \n",
       "5            2                   1                       5000.0   \n",
       "6            0                   1                      17000.0   \n",
       "7            3                   1                      17000.0   \n",
       "8            2                   1                      16000.0   \n",
       "9            0                   1                      16000.0   \n",
       "\n",
       "   prior_question_had_explanation  \n",
       "0                            <NA>  \n",
       "1                           False  \n",
       "2                           False  \n",
       "3                           False  \n",
       "4                           False  \n",
       "5                           False  \n",
       "6                           False  \n",
       "7                           False  \n",
       "8                           False  \n",
       "9                           False  "
      ]
     },
     "execution_count": 3,
     "metadata": {},
     "output_type": "execute_result"
    }
   ],
   "source": [
    "# Выведем первые 10 строк DataFrame\n",
    "train.head(10)"
   ]
  },
  {
   "cell_type": "code",
   "execution_count": 4,
   "metadata": {
    "collapsed": false,
    "jupyter": {
     "outputs_hidden": false
    },
    "pycharm": {
     "name": "#%%\n"
    }
   },
   "outputs": [],
   "source": [
    "# Заполним пустые ячейки значениями False (для анализа данных это равнозначные значения)\n",
    "train['prior_question_had_explanation'] = train['prior_question_had_explanation'].fillna(False)\n",
    "\n",
    "# Замена -1 на NaN для лекций\n",
    "train['user_answer'] = train['user_answer'].replace(-1, pd.NA)\n",
    "train['answered_correctly'] = train['answered_correctly'].replace(-1, pd.NA)"
   ]
  },
  {
   "cell_type": "code",
   "execution_count": 5,
   "metadata": {
    "collapsed": false,
    "jupyter": {
     "outputs_hidden": false
    },
    "pycharm": {
     "name": "#%%\n"
    }
   },
   "outputs": [
    {
     "name": "stdout",
     "output_type": "stream",
     "text": [
      "<class 'pandas.core.frame.DataFrame'>\n",
      "RangeIndex: 1000000 entries, 0 to 999999\n",
      "Data columns (total 9 columns):\n",
      " #   Column                          Non-Null Count    Dtype  \n",
      "---  ------                          --------------    -----  \n",
      " 0   timestamp                       1000000 non-null  int64  \n",
      " 1   user_id                         1000000 non-null  int32  \n",
      " 2   content_id                      1000000 non-null  int16  \n",
      " 3   content_type_id                 1000000 non-null  boolean\n",
      " 4   task_container_id               1000000 non-null  int16  \n",
      " 5   user_answer                     980093 non-null   object \n",
      " 6   answered_correctly              980093 non-null   object \n",
      " 7   prior_question_elapsed_time     976277 non-null   float32\n",
      " 8   prior_question_had_explanation  1000000 non-null  boolean\n",
      "dtypes: boolean(2), float32(1), int16(2), int32(1), int64(1), object(2)\n",
      "memory usage: 38.1+ MB\n"
     ]
    }
   ],
   "source": [
    "# Выводим информацию о DataFrame, включая количество строк, столбцов, типы данных и количество ненулевых значений\n",
    "train.info()"
   ]
  },
  {
   "cell_type": "code",
   "execution_count": 6,
   "metadata": {
    "collapsed": false,
    "jupyter": {
     "outputs_hidden": false
    },
    "pycharm": {
     "name": "#%%\n"
    }
   },
   "outputs": [
    {
     "name": "stdout",
     "output_type": "stream",
     "text": [
      "Количество дубликатов: 2\n",
      "Размер данных до удаления дубликатов: (1000000, 9)\n",
      "Размер данных после удаления дубликатов: (999998, 9)\n"
     ]
    }
   ],
   "source": [
    "# Проверка на наличие дубликатов\n",
    "duplicates = train.duplicated().sum()\n",
    "print(f\"Количество дубликатов: {duplicates}\")\n",
    "\n",
    "# Удаление дубликатов, если есть\n",
    "if duplicates:\n",
    "    print(f\"Размер данных до удаления дубликатов: {train.shape}\")\n",
    "    train = train.drop_duplicates()\n",
    "    print(f\"Размер данных после удаления дубликатов: {train.shape}\")"
   ]
  },
  {
   "cell_type": "code",
   "execution_count": 7,
   "metadata": {
    "collapsed": false,
    "jupyter": {
     "outputs_hidden": false
    },
    "pycharm": {
     "name": "#%%\n"
    }
   },
   "outputs": [
    {
     "name": "stdout",
     "output_type": "stream",
     "text": [
      "timestamp                             0\n",
      "user_id                               0\n",
      "content_id                            0\n",
      "content_type_id                       0\n",
      "task_container_id                     0\n",
      "user_answer                       19907\n",
      "answered_correctly                19907\n",
      "prior_question_elapsed_time       23723\n",
      "prior_question_had_explanation        0\n",
      "dtype: int64\n"
     ]
    }
   ],
   "source": [
    "# Проверка пропусков\n",
    "print(train.isnull().sum())"
   ]
  },
  {
   "cell_type": "code",
   "execution_count": 8,
   "metadata": {
    "collapsed": false,
    "jupyter": {
     "outputs_hidden": false
    },
    "pycharm": {
     "name": "#%%\n"
    }
   },
   "outputs": [
    {
     "name": "stdout",
     "output_type": "stream",
     "text": [
      "timestamp                             0\n",
      "user_id                               0\n",
      "content_id                            0\n",
      "content_type_id                       0\n",
      "task_container_id                     0\n",
      "user_answer                       19907\n",
      "answered_correctly                19907\n",
      "prior_question_elapsed_time           0\n",
      "prior_question_had_explanation        0\n",
      "dtype: int64\n"
     ]
    }
   ],
   "source": [
    "# Заполнение пропусков в prior_question_elapsed_time медианным значением\n",
    "median_elapsed_time = train['prior_question_elapsed_time'].median()\n",
    "train['prior_question_elapsed_time'] = train['prior_question_elapsed_time'].fillna(median_elapsed_time)\n",
    "\n",
    "# Проверка пропусков после обработки\n",
    "print(train.isnull().sum())"
   ]
  },
  {
   "cell_type": "markdown",
   "metadata": {
    "collapsed": false,
    "jupyter": {
     "outputs_hidden": false
    },
    "pycharm": {
     "name": "#%% md\n"
    }
   },
   "source": [
    "Заполнение пропусков медианными значениями используется для минимизации искажения данных, особенно когда пропуски присутствуют в количественных переменных, как в случае с `prior_question_elapsed_time`. Медианное значение менее подвержено влиянию выбросов, чем среднее, и позволяет сохранить структуру данных, не искажая распределение времени, затраченного на ответы.\n",
    "\n",
    "\n",
    "После обработки остались пропуски только в колонках user_answer и answered_correctly.\n",
    "Это логично, так как эти значения отсутствуют для лекций (content_type_id = 1).\n",
    "В зависимости от дальнейшего анализа, пропуски в этих колонках можно оставить как есть."
   ]
  },
  {
   "cell_type": "markdown",
   "metadata": {
    "collapsed": false,
    "jupyter": {
     "outputs_hidden": false
    },
    "pycharm": {
     "name": "#%% md\n"
    }
   },
   "source": [
    "## questions.csv\n",
    "### Описание содержимого:\n",
    "---\n",
    "1. **question_id**: (int16) Внешний ключ для столбца content_id в train/test, когда тип контента — вопрос (0).\n",
    "---\n",
    "2. **bundle_id**: (int16) Код, указывающий, какие вопросы подаются вместе.\n",
    "---\n",
    "3. **correct_answer**: (int8) Ответ на вопрос. Может быть сравнён с ответом пользователя в столбце user_answer в train для проверки правильности ответа.\n",
    "---\n",
    "4. **part**: (int8) Соответствующий раздел теста TOEIC.\n",
    "---\n",
    "5. **tags**: (str) Один или несколько кодов тегов для вопроса. Значение тегов не предоставляется, но этих кодов достаточно для кластеризации вопросов.\n",
    "---"
   ]
  },
  {
   "cell_type": "markdown",
   "metadata": {
    "collapsed": false,
    "jupyter": {
     "outputs_hidden": false
    },
    "pycharm": {
     "name": "#%% md\n"
    }
   },
   "source": [
    "Проанализировав описание, было принято решение при считывании данных сразу указать необходимые для них типы:\n",
    "- int16\n",
    "- int8\n",
    "- str"
   ]
  },
  {
   "cell_type": "code",
   "execution_count": 9,
   "metadata": {
    "collapsed": false,
    "jupyter": {
     "outputs_hidden": false
    },
    "pycharm": {
     "name": "#%%\n"
    }
   },
   "outputs": [],
   "source": [
    "# Определение типов данных для каждого столбца в DataFrame\n",
    "dtypes = {\n",
    "    \"question_id\": \"int32\",  # Идентификатор вопроса, целочисленный тип (32-битный)\n",
    "    \"bundle_id\": \"int16\",  # Идентификатор набора вопросов, целочисленный тип (16-битный)\n",
    "    \"correct_answer\": \"int8\",  # Ответ на вопрос, целочисленный тип (8-битный)\n",
    "    \"part\": \"int8\",  # Раздел теста (часть TOEIC), целочисленный тип (8-битный)\n",
    "    \"tags\": \"object\"  # Теги для вопроса, категориальный тип\n",
    "}\n",
    "\n",
    "# Чтение файла CSV с указанными типами данных\n",
    "questions = pd.read_csv(\"questions.csv\", dtype=dtypes)"
   ]
  },
  {
   "cell_type": "code",
   "execution_count": 10,
   "metadata": {
    "collapsed": false,
    "jupyter": {
     "outputs_hidden": false
    },
    "pycharm": {
     "name": "#%%\n"
    }
   },
   "outputs": [
    {
     "data": {
      "text/html": [
       "<div>\n",
       "<style scoped>\n",
       "    .dataframe tbody tr th:only-of-type {\n",
       "        vertical-align: middle;\n",
       "    }\n",
       "\n",
       "    .dataframe tbody tr th {\n",
       "        vertical-align: top;\n",
       "    }\n",
       "\n",
       "    .dataframe thead th {\n",
       "        text-align: right;\n",
       "    }\n",
       "</style>\n",
       "<table border=\"1\" class=\"dataframe\">\n",
       "  <thead>\n",
       "    <tr style=\"text-align: right;\">\n",
       "      <th></th>\n",
       "      <th>question_id</th>\n",
       "      <th>bundle_id</th>\n",
       "      <th>correct_answer</th>\n",
       "      <th>part</th>\n",
       "      <th>tags</th>\n",
       "    </tr>\n",
       "  </thead>\n",
       "  <tbody>\n",
       "    <tr>\n",
       "      <th>0</th>\n",
       "      <td>0</td>\n",
       "      <td>0</td>\n",
       "      <td>0</td>\n",
       "      <td>1</td>\n",
       "      <td>51 131 162 38</td>\n",
       "    </tr>\n",
       "    <tr>\n",
       "      <th>1</th>\n",
       "      <td>1</td>\n",
       "      <td>1</td>\n",
       "      <td>1</td>\n",
       "      <td>1</td>\n",
       "      <td>131 36 81</td>\n",
       "    </tr>\n",
       "    <tr>\n",
       "      <th>2</th>\n",
       "      <td>2</td>\n",
       "      <td>2</td>\n",
       "      <td>0</td>\n",
       "      <td>1</td>\n",
       "      <td>131 101 162 92</td>\n",
       "    </tr>\n",
       "    <tr>\n",
       "      <th>3</th>\n",
       "      <td>3</td>\n",
       "      <td>3</td>\n",
       "      <td>0</td>\n",
       "      <td>1</td>\n",
       "      <td>131 149 162 29</td>\n",
       "    </tr>\n",
       "    <tr>\n",
       "      <th>4</th>\n",
       "      <td>4</td>\n",
       "      <td>4</td>\n",
       "      <td>3</td>\n",
       "      <td>1</td>\n",
       "      <td>131 5 162 38</td>\n",
       "    </tr>\n",
       "    <tr>\n",
       "      <th>5</th>\n",
       "      <td>5</td>\n",
       "      <td>5</td>\n",
       "      <td>2</td>\n",
       "      <td>1</td>\n",
       "      <td>131 149 162 81</td>\n",
       "    </tr>\n",
       "    <tr>\n",
       "      <th>6</th>\n",
       "      <td>6</td>\n",
       "      <td>6</td>\n",
       "      <td>2</td>\n",
       "      <td>1</td>\n",
       "      <td>10 94 162 92</td>\n",
       "    </tr>\n",
       "    <tr>\n",
       "      <th>7</th>\n",
       "      <td>7</td>\n",
       "      <td>7</td>\n",
       "      <td>0</td>\n",
       "      <td>1</td>\n",
       "      <td>61 110 162 29</td>\n",
       "    </tr>\n",
       "    <tr>\n",
       "      <th>8</th>\n",
       "      <td>8</td>\n",
       "      <td>8</td>\n",
       "      <td>3</td>\n",
       "      <td>1</td>\n",
       "      <td>131 13 162 92</td>\n",
       "    </tr>\n",
       "    <tr>\n",
       "      <th>9</th>\n",
       "      <td>9</td>\n",
       "      <td>9</td>\n",
       "      <td>3</td>\n",
       "      <td>1</td>\n",
       "      <td>10 164 81</td>\n",
       "    </tr>\n",
       "  </tbody>\n",
       "</table>\n",
       "</div>"
      ],
      "text/plain": [
       "   question_id  bundle_id  correct_answer  part            tags\n",
       "0            0          0               0     1   51 131 162 38\n",
       "1            1          1               1     1       131 36 81\n",
       "2            2          2               0     1  131 101 162 92\n",
       "3            3          3               0     1  131 149 162 29\n",
       "4            4          4               3     1    131 5 162 38\n",
       "5            5          5               2     1  131 149 162 81\n",
       "6            6          6               2     1    10 94 162 92\n",
       "7            7          7               0     1   61 110 162 29\n",
       "8            8          8               3     1   131 13 162 92\n",
       "9            9          9               3     1       10 164 81"
      ]
     },
     "execution_count": 10,
     "metadata": {},
     "output_type": "execute_result"
    }
   ],
   "source": [
    "# Выведем первые 10 строк DataFrame\n",
    "questions.head(10)"
   ]
  },
  {
   "cell_type": "code",
   "execution_count": 11,
   "metadata": {
    "collapsed": false,
    "jupyter": {
     "outputs_hidden": false
    },
    "pycharm": {
     "name": "#%%\n"
    }
   },
   "outputs": [
    {
     "name": "stdout",
     "output_type": "stream",
     "text": [
      "Количество вопросов: 13523\n"
     ]
    }
   ],
   "source": [
    "print(f\"Количество вопросов: {questions['question_id'].shape[0]}\")"
   ]
  },
  {
   "cell_type": "code",
   "execution_count": 12,
   "metadata": {
    "collapsed": false,
    "jupyter": {
     "outputs_hidden": false
    },
    "pycharm": {
     "name": "#%%\n"
    }
   },
   "outputs": [
    {
     "name": "stdout",
     "output_type": "stream",
     "text": [
      "<class 'pandas.core.frame.DataFrame'>\n",
      "RangeIndex: 13523 entries, 0 to 13522\n",
      "Data columns (total 5 columns):\n",
      " #   Column          Non-Null Count  Dtype \n",
      "---  ------          --------------  ----- \n",
      " 0   question_id     13523 non-null  int32 \n",
      " 1   bundle_id       13523 non-null  int16 \n",
      " 2   correct_answer  13523 non-null  int8  \n",
      " 3   part            13523 non-null  int8  \n",
      " 4   tags            13522 non-null  object\n",
      "dtypes: int16(1), int32(1), int8(2), object(1)\n",
      "memory usage: 211.4+ KB\n"
     ]
    }
   ],
   "source": [
    "# Проверка общей информации о DataFrame\n",
    "questions.info()"
   ]
  },
  {
   "cell_type": "code",
   "execution_count": 13,
   "metadata": {
    "collapsed": false,
    "jupyter": {
     "outputs_hidden": false
    },
    "pycharm": {
     "name": "#%%\n"
    }
   },
   "outputs": [
    {
     "name": "stdout",
     "output_type": "stream",
     "text": [
      "Пропущенные значения обнаружены в следующих столбцах:\n",
      "tags    1\n",
      "dtype: int64\n"
     ]
    }
   ],
   "source": [
    "# Проверка на наличие пропущенных значений\n",
    "# Проверка на наличие пропущенных значений в данных lectures\n",
    "missing_values = questions.isnull().sum()\n",
    "\n",
    "# Выводим информацию о пропусках\n",
    "if missing_values.any():\n",
    "    print(\"Пропущенные значения обнаружены в следующих столбцах:\")\n",
    "    print(missing_values[missing_values > 0])\n",
    "else:\n",
    "    print(\"Пропущенные значения отсутствуют во всех столбцах.\")"
   ]
  },
  {
   "cell_type": "markdown",
   "metadata": {
    "collapsed": false,
    "jupyter": {
     "outputs_hidden": false
    },
    "pycharm": {
     "name": "#%% md\n"
    }
   },
   "source": [
    "**Пропуск в столбце не критичен, можем его оставить.**"
   ]
  },
  {
   "cell_type": "code",
   "execution_count": 14,
   "metadata": {
    "collapsed": false,
    "jupyter": {
     "outputs_hidden": false
    },
    "pycharm": {
     "name": "#%%\n"
    }
   },
   "outputs": [
    {
     "name": "stdout",
     "output_type": "stream",
     "text": [
      "Количество дубликатов: 0\n"
     ]
    }
   ],
   "source": [
    "# Проверка на наличие дубликатов\n",
    "duplicates = questions.duplicated().sum()\n",
    "print(f\"Количество дубликатов: {duplicates}\")\n",
    "\n",
    "# Удаление дубликатов, если есть\n",
    "if duplicates:\n",
    "    print(f\"Размер данных до удаления дубликатов: {questions.shape}\")\n",
    "    questions = questions.drop_duplicates()\n",
    "    print(f\"Размер данных после удаления дубликатов: {questions.shape}\")"
   ]
  },
  {
   "cell_type": "markdown",
   "metadata": {
    "collapsed": false,
    "jupyter": {
     "outputs_hidden": false
    },
    "pycharm": {
     "name": "#%% md\n"
    }
   },
   "source": [
    "## lectures.csv\n",
    "### Описание содержимого:\n",
    "---\n",
    "1. **lecture_id**: (int16) Внешний ключ для столбца content_id в train/test, когда тип контента — лекция (1).\n",
    "---\n",
    "2. **part**: (int8) Код верхнего уровня для категории лекции.\n",
    "---\n",
    "3. **tag**: (str) Один код тега для лекции. Значение тегов не предоставляется, но этих кодов достаточно для кластеризации лекций.\n",
    "---\n",
    "4. **type_of**: (str) Краткое описание основной цели лекции.\n",
    "---"
   ]
  },
  {
   "cell_type": "code",
   "execution_count": 15,
   "metadata": {
    "collapsed": false,
    "jupyter": {
     "outputs_hidden": false
    },
    "pycharm": {
     "name": "#%%\n"
    }
   },
   "outputs": [],
   "source": [
    "# Определение типов данных для каждого столбца в DataFrame\n",
    "dtypes_lectures = {\n",
    "    \"lecture_id\": \"int32\",  # Идентификатор лекции, целочисленный тип (32-битный)\n",
    "    \"part\": \"int8\",  # Категория лекции, целочисленный тип (8-битный)\n",
    "    \"tag\": \"object\",  # Теги для лекции, категориальный тип\n",
    "    \"type_of\": \"object\"  # Описание типа лекции, строковый тип\n",
    "}\n",
    "\n",
    "# Чтение файла CSV с указанными типами данных\n",
    "lectures = pd.read_csv(\"lectures.csv\", dtype=dtypes_lectures)"
   ]
  },
  {
   "cell_type": "code",
   "execution_count": 16,
   "metadata": {
    "collapsed": false,
    "jupyter": {
     "outputs_hidden": false
    },
    "pycharm": {
     "name": "#%%\n"
    }
   },
   "outputs": [
    {
     "data": {
      "text/html": [
       "<div>\n",
       "<style scoped>\n",
       "    .dataframe tbody tr th:only-of-type {\n",
       "        vertical-align: middle;\n",
       "    }\n",
       "\n",
       "    .dataframe tbody tr th {\n",
       "        vertical-align: top;\n",
       "    }\n",
       "\n",
       "    .dataframe thead th {\n",
       "        text-align: right;\n",
       "    }\n",
       "</style>\n",
       "<table border=\"1\" class=\"dataframe\">\n",
       "  <thead>\n",
       "    <tr style=\"text-align: right;\">\n",
       "      <th></th>\n",
       "      <th>lecture_id</th>\n",
       "      <th>tag</th>\n",
       "      <th>part</th>\n",
       "      <th>type_of</th>\n",
       "    </tr>\n",
       "  </thead>\n",
       "  <tbody>\n",
       "    <tr>\n",
       "      <th>0</th>\n",
       "      <td>89</td>\n",
       "      <td>159</td>\n",
       "      <td>5</td>\n",
       "      <td>concept</td>\n",
       "    </tr>\n",
       "    <tr>\n",
       "      <th>1</th>\n",
       "      <td>100</td>\n",
       "      <td>70</td>\n",
       "      <td>1</td>\n",
       "      <td>concept</td>\n",
       "    </tr>\n",
       "    <tr>\n",
       "      <th>2</th>\n",
       "      <td>185</td>\n",
       "      <td>45</td>\n",
       "      <td>6</td>\n",
       "      <td>concept</td>\n",
       "    </tr>\n",
       "    <tr>\n",
       "      <th>3</th>\n",
       "      <td>192</td>\n",
       "      <td>79</td>\n",
       "      <td>5</td>\n",
       "      <td>solving question</td>\n",
       "    </tr>\n",
       "    <tr>\n",
       "      <th>4</th>\n",
       "      <td>317</td>\n",
       "      <td>156</td>\n",
       "      <td>5</td>\n",
       "      <td>solving question</td>\n",
       "    </tr>\n",
       "    <tr>\n",
       "      <th>5</th>\n",
       "      <td>335</td>\n",
       "      <td>114</td>\n",
       "      <td>2</td>\n",
       "      <td>concept</td>\n",
       "    </tr>\n",
       "    <tr>\n",
       "      <th>6</th>\n",
       "      <td>484</td>\n",
       "      <td>179</td>\n",
       "      <td>5</td>\n",
       "      <td>concept</td>\n",
       "    </tr>\n",
       "    <tr>\n",
       "      <th>7</th>\n",
       "      <td>641</td>\n",
       "      <td>134</td>\n",
       "      <td>6</td>\n",
       "      <td>solving question</td>\n",
       "    </tr>\n",
       "    <tr>\n",
       "      <th>8</th>\n",
       "      <td>761</td>\n",
       "      <td>93</td>\n",
       "      <td>1</td>\n",
       "      <td>concept</td>\n",
       "    </tr>\n",
       "    <tr>\n",
       "      <th>9</th>\n",
       "      <td>814</td>\n",
       "      <td>80</td>\n",
       "      <td>5</td>\n",
       "      <td>solving question</td>\n",
       "    </tr>\n",
       "  </tbody>\n",
       "</table>\n",
       "</div>"
      ],
      "text/plain": [
       "   lecture_id  tag  part           type_of\n",
       "0          89  159     5           concept\n",
       "1         100   70     1           concept\n",
       "2         185   45     6           concept\n",
       "3         192   79     5  solving question\n",
       "4         317  156     5  solving question\n",
       "5         335  114     2           concept\n",
       "6         484  179     5           concept\n",
       "7         641  134     6  solving question\n",
       "8         761   93     1           concept\n",
       "9         814   80     5  solving question"
      ]
     },
     "execution_count": 16,
     "metadata": {},
     "output_type": "execute_result"
    }
   ],
   "source": [
    "# Выводим первые 10 строк DataFrame\n",
    "lectures.head(10)"
   ]
  },
  {
   "cell_type": "code",
   "execution_count": 17,
   "metadata": {
    "collapsed": false,
    "jupyter": {
     "outputs_hidden": false
    },
    "pycharm": {
     "name": "#%%\n"
    }
   },
   "outputs": [
    {
     "name": "stdout",
     "output_type": "stream",
     "text": [
      "<class 'pandas.core.frame.DataFrame'>\n",
      "RangeIndex: 418 entries, 0 to 417\n",
      "Data columns (total 4 columns):\n",
      " #   Column      Non-Null Count  Dtype \n",
      "---  ------      --------------  ----- \n",
      " 0   lecture_id  418 non-null    int32 \n",
      " 1   tag         418 non-null    object\n",
      " 2   part        418 non-null    int8  \n",
      " 3   type_of     418 non-null    object\n",
      "dtypes: int32(1), int8(1), object(2)\n",
      "memory usage: 8.7+ KB\n"
     ]
    }
   ],
   "source": [
    "# Проверка общей информации о DataFrame\n",
    "lectures.info()"
   ]
  },
  {
   "cell_type": "code",
   "execution_count": 18,
   "metadata": {
    "collapsed": false,
    "jupyter": {
     "outputs_hidden": false
    },
    "pycharm": {
     "name": "#%%\n"
    }
   },
   "outputs": [
    {
     "name": "stdout",
     "output_type": "stream",
     "text": [
      "Пропущенные значения отсутствуют во всех столбцах.\n"
     ]
    }
   ],
   "source": [
    "# Проверка на наличие пропущенных значений в данных lectures\n",
    "missing_values = lectures.isnull().sum()\n",
    "\n",
    "# Выводим информацию о пропусках\n",
    "if missing_values.any():\n",
    "    print(\"Пропущенные значения обнаружены в следующих столбцах:\")\n",
    "    print(missing_values[missing_values > 0])\n",
    "else:\n",
    "    print(\"Пропущенные значения отсутствуют во всех столбцах.\")"
   ]
  },
  {
   "cell_type": "code",
   "execution_count": 19,
   "metadata": {
    "collapsed": false,
    "jupyter": {
     "outputs_hidden": false
    },
    "pycharm": {
     "name": "#%%\n"
    }
   },
   "outputs": [
    {
     "name": "stdout",
     "output_type": "stream",
     "text": [
      "Количество дубликатов: 0\n"
     ]
    }
   ],
   "source": [
    "# Проверка на наличие дубликатов\n",
    "duplicates_lectures = lectures.duplicated().sum()\n",
    "print(f\"Количество дубликатов: {duplicates_lectures}\")\n",
    "\n",
    "# Удаление дубликатов, если есть\n",
    "if duplicates_lectures:\n",
    "    print(f\"Размер данных до удаления дубликатов: {lectures.shape}\")\n",
    "    lectures = lectures.drop_duplicates()\n",
    "    print(f\"Размер данных после удаления дубликатов: {lectures.shape}\")"
   ]
  },
  {
   "cell_type": "markdown",
   "metadata": {
    "collapsed": false,
    "jupyter": {
     "outputs_hidden": false
    },
    "pycharm": {
     "name": "#%% md\n"
    }
   },
   "source": [
    "# Анализ предобработанных данных"
   ]
  },
  {
   "cell_type": "code",
   "execution_count": 20,
   "metadata": {
    "collapsed": false,
    "jupyter": {
     "outputs_hidden": false
    },
    "pycharm": {
     "name": "#%%\n"
    }
   },
   "outputs": [
    {
     "data": {
      "image/png": "[encoded data removed]",
      "text/plain": [
       "<Figure size 700x700 with 1 Axes>"
      ]
     },
     "metadata": {},
     "output_type": "display_data"
    }
   ],
   "source": [
    "# Получаем нормализованное распределение правильных и неправильных ответов\n",
    "answer_distribution = train[train['answered_correctly'] != -1]['answered_correctly'].value_counts(normalize=True)\n",
    "\n",
    "# Строим круговую диаграмму с тёмными оттенками\n",
    "plt.figure(figsize=(7,7))\n",
    "plt.pie(answer_distribution, labels=['Правильные ответы', 'Неправильные ответы'], autopct='%1.1f%%', colors=['green', 'red'])  # темный зеленый и красный\n",
    "\n",
    "plt.title('Распределение правильных и неправильных ответов')\n",
    "plt.show()"
   ]
  },
  {
   "cell_type": "markdown",
   "metadata": {
    "collapsed": false,
    "jupyter": {
     "outputs_hidden": false
    },
    "pycharm": {
     "name": "#%% md\n"
    }
   },
   "source": [
    "Распределение правильных и неправильных ответов на платформе показывает, что 65% всех ответов были правильными, а 35% — неправильными. Это свидетельствует о том, что студенты в среднем показывают достаточно высокую успеваемость, отвечая верно на большинство вопросов. Однако существует значительный процент неправильных ответов, что также указывает на наличие трудных для студентов вопросов или на недостаточную подготовленность некоторых пользователей."
   ]
  },
  {
   "cell_type": "code",
   "execution_count": 21,
   "metadata": {
    "collapsed": false,
    "jupyter": {
     "outputs_hidden": false
    },
    "pycharm": {
     "name": "#%%\n"
    }
   },
   "outputs": [
    {
     "data": {
      "image/png": "[encoded data removed]",
      "text/plain": [
       "<Figure size 700x700 with 1 Axes>"
      ]
     },
     "metadata": {},
     "output_type": "display_data"
    }
   ],
   "source": [
    "# Получаем нормализованное распределение по типам контента\n",
    "content_type_distribution = train['content_type_id'].value_counts(normalize=True)\n",
    "\n",
    "# Строим круговую диаграмму\n",
    "plt.figure(figsize=(7,7))\n",
    "plt.pie(content_type_distribution, labels=['Вопросы', 'Лекции'], autopct='%1.1f%%', colors=['green', 'red'])\n",
    "\n",
    "# Добавляем заголовок\n",
    "plt.title('Распределение типов контента')\n",
    "plt.show()"
   ]
  },
  {
   "cell_type": "markdown",
   "metadata": {
    "collapsed": false,
    "jupyter": {
     "outputs_hidden": false
    },
    "pycharm": {
     "name": "#%% md\n"
    }
   },
   "source": [
    "Из данных видно, что основная активность студентов приходится на ответы на вопросы, в то время как просмотры лекций составляют меньшую часть. Анализ показывает, что 98% всех действий студентов связано с ответами на вопросы."
   ]
  },
  {
   "cell_type": "code",
   "execution_count": 22,
   "metadata": {
    "collapsed": false,
    "jupyter": {
     "outputs_hidden": false
    },
    "pycharm": {
     "name": "#%%\n"
    }
   },
   "outputs": [
    {
     "data": {
      "image/png": "[encoded data removed]",
      "text/plain": [
       "<Figure size 1000x600 with 1 Axes>"
      ]
     },
     "metadata": {},
     "output_type": "display_data"
    },
    {
     "data": {
      "image/png": "[encoded data removed]",
      "text/plain": [
       "<Figure size 1000x600 with 1 Axes>"
      ]
     },
     "metadata": {},
     "output_type": "display_data"
    },
    {
     "name": "stdout",
     "output_type": "stream",
     "text": [
      "Корреляция между количеством вопросов и успеваемостью: 0.23\n",
      "Корреляция между количеством лекций и успеваемостью: 0.19\n"
     ]
    }
   ],
   "source": [
    "# Рассчитаем количество вопросов и лекций для каждого пользователя\n",
    "user_activity = train.groupby('user_id').agg(\n",
    "    total_questions=('content_type_id', lambda e: (e == 0).sum()),  # количество вопросов\n",
    "    total_lectures=('content_type_id', lambda e: (e == 1).sum())  # количество лекций\n",
    ").reset_index()\n",
    "\n",
    "# Рассчитаем среднюю успеваемость для каждого пользователя\n",
    "user_performance = train.groupby('user_id')['answered_correctly'].mean().reset_index()\n",
    "\n",
    "# Объединим данные по активности и успеваемости\n",
    "user_data = pd.merge(user_activity, user_performance, on='user_id')\n",
    "\n",
    "# Визуализируем зависимость между количеством вопросов и успеваемостью\n",
    "plt.figure(figsize=(10, 6))\n",
    "sns.scatterplot(data=user_data, x='total_questions', y='answered_correctly', color='green')\n",
    "plt.title(\"Зависимость успеваемости от количества просмотренных вопросов\")\n",
    "plt.xlabel(\"Количество вопросов\")\n",
    "plt.ylabel(\"Средняя успеваемость\")\n",
    "plt.show()\n",
    "\n",
    "# Визуализируем зависимость между количеством лекций и успеваемостью\n",
    "plt.figure(figsize=(10, 6))\n",
    "sns.scatterplot(data=user_data, x='total_lectures', y='answered_correctly', color='green')\n",
    "plt.title(\"Зависимость успеваемости от количества просмотренных лекций\")\n",
    "plt.xlabel(\"Количество лекций\")\n",
    "plt.ylabel(\"Средняя успеваемость\")\n",
    "plt.show()\n",
    "\n",
    "# Можно также использовать корреляцию для оценки зависимости\n",
    "correlation_questions = user_data['total_questions'].corr(user_data['answered_correctly'])\n",
    "correlation_lectures = user_data['total_lectures'].corr(user_data['answered_correctly'])\n",
    "\n",
    "print(f\"Корреляция между количеством вопросов и успеваемостью: {correlation_questions:.2f}\")\n",
    "print(f\"Корреляция между количеством лекций и успеваемостью: {correlation_lectures:.2f}\")"
   ]
  },
  {
   "cell_type": "markdown",
   "metadata": {
    "collapsed": false,
    "jupyter": {
     "outputs_hidden": false
    },
    "pycharm": {
     "name": "#%% md\n"
    }
   },
   "source": [
    "### Коэффициент корреляции Пирсона (или Pearson's correlation coefficient)\n",
    "\n",
    "Измеряет степень линейной зависимости между двумя переменными. Он принимает значения от -1 до 1:\n",
    "\n",
    "* +1: Полная положительная линейная зависимость. Это означает, что с увеличением одной переменной, другая также увеличивается пропорционально.\n",
    "* -1: Полная отрицательная линейная зависимость. Это означает, что с увеличением одной переменной, другая уменьшается пропорционально.\n",
    "* 0: Отсутствие линейной зависимости между переменными. Это не обязательно означает отсутствие связи между переменными вообще (может быть нелинейная зависимость).\n",
    "\n",
    "Общая интерпретация:\n",
    "* Значения около 0: указывают на слабую или практически отсутствие линейной зависимости.\n",
    "* 0.1 - 0.3: Слабая положительная корреляция.\n",
    "* 0.3 - 0.5: Умеренная положительная корреляция.\n",
    "* 0.5 - 1.0: Сильная положительная корреляция.\n",
    "* -0.1 - -0.3: Слабая отрицательная корреляция.\n",
    "* -0.3 - -0.5: Умеренная отрицательная корреляция.\n",
    "* -0.5 - -1.0: Сильная отрицательная корреляция."
   ]
  },
  {
   "cell_type": "markdown",
   "metadata": {
    "collapsed": false,
    "jupyter": {
     "outputs_hidden": false
    },
    "pycharm": {
     "name": "#%% md\n"
    }
   },
   "source": [
    "**Полученные результаты показывают **слабую положительную зависимость** между этими переменными.**\n",
    "\n",
    "1. **Корреляция 0.23 (вопросы)**:\n",
    "   - Это значение указывает на **слабую положительную корреляцию** между количеством вопросов, с которыми пользователь взаимодействует, и его успеваемостью.\n",
    "   - То есть, с увеличением числа вопросов, на которые пользователи отвечают, их успеваемость немного повышается, но эта связь не очень сильная. Возможно, пользователи, которые решают больше вопросов, становятся более опытными и, следовательно, лучше отвечают.\n",
    "\n",
    "2. **Корреляция 0.19 (лекции)**:\n",
    "   - Это значение также говорит о **слабой положительной зависимости**, но с несколько меньшей силой, чем у вопросов.\n",
    "   - Таким образом, просмотр лекций может слегка повышать успеваемость, однако это влияние тоже не сильно выражено. Возможно, пользователи, которые смотрят лекции, получают дополнительные знания, но этого недостаточно для сильного улучшения результатов.\n",
    "\n",
    "---\n",
    "\n",
    "- Слабая корреляция говорит о том, что **другие факторы могут иметь большее влияние** на успеваемость, чем количество вопросов или лекций. Например, такие факторы как уровень подготовки пользователя, его мотивация, качество объяснений и другое могут существенно влиять на результаты.\n",
    "- Также следует учитывать, что другие аспекты обучения, не связанные напрямую с количеством просмотренных вопросов или лекций, могут играть важную роль в успеваемости."
   ]
  },
  {
   "cell_type": "code",
   "execution_count": 23,
   "metadata": {
    "collapsed": false,
    "jupyter": {
     "outputs_hidden": false
    },
    "pycharm": {
     "name": "#%%\n"
    }
   },
   "outputs": [
    {
     "data": {
      "image/png": "[encoded data removed]",
      "text/plain": [
       "<Figure size 1200x600 with 1 Axes>"
      ]
     },
     "metadata": {},
     "output_type": "display_data"
    }
   ],
   "source": [
    "# Создаем 5 временных интервалов для timestamp\n",
    "# bin_labels_5 = ['Очень ранняя регистрация', 'Ранняя регистрация', 'Средняя регистрация', 'Поздняя регистрация', 'Очень поздняя регистрация']\n",
    "# train['ts_bin'] = pd.qcut(train['timestamp'], q=5, labels=bin_labels_5)\n",
    "bin_labels_5 = ['Новички', \"Опытные\", \"Продвинутые\"]\n",
    "train['ts_bin'] = pd.qcut(train['timestamp'], q=3, labels=bin_labels_5)\n",
    "\n",
    "# Группируем данные по временным интервалам и правильности ответов с аргументом observed=True\n",
    "correct = train[train.answered_correctly != -1].groupby(['ts_bin', 'answered_correctly'], observed=True).size().unstack(fill_value=0)\n",
    "\n",
    "# Рассчитываем процент правильных ответов\n",
    "correct['Percent_correct'] = correct[1] / (correct[0] + correct[1])\n",
    "\n",
    "# Сортируем по проценту правильных ответов\n",
    "correct = correct['Percent_correct'].sort_values(ascending=False)\n",
    "\n",
    "# Создаем график\n",
    "fig = plt.figure(figsize=(12, 6))\n",
    "plt.bar(correct.index, correct.values, color='green')\n",
    "\n",
    "# Добавляем значения на столбцы\n",
    "for i, v in zip(correct.index, correct.values):\n",
    "    plt.text(i, v, f\"{v:.2f}\", color='white', fontweight='bold', fontsize=12, va='top', ha='center')\n",
    "\n",
    "# Настроим заголовок и метки\n",
    "plt.title(\"Процент ответивших правильно в зависимости от срока регистрации\")\n",
    "plt.xticks(rotation=45)\n",
    "plt.show()"
   ]
  },
  {
   "cell_type": "markdown",
   "metadata": {
    "collapsed": false,
    "jupyter": {
     "outputs_hidden": false
    },
    "pycharm": {
     "name": "#%% md\n"
    }
   },
   "source": [
    "Пользователи, зарегистрировавшиеся относительно недавно, показывают немного худшие результаты по успеваемости, чем те, кто использует платформу дольше. Это может быть связано с тем, что более опытные пользователи уже прошли больше контента, накопили знания и навыки, в то время как новички только начинают знакомство с платформой и, возможно, сталкиваются с трудностями на ранних этапах обучения."
   ]
  },
  {
   "cell_type": "markdown",
   "metadata": {
    "collapsed": false,
    "jupyter": {
     "outputs_hidden": false
    },
    "pycharm": {
     "name": "#%% md\n"
    }
   },
   "source": [
    "### Объединение данных из таблиц **train**, **questions** и **lectures**\n",
    "\n",
    "Данное действие является важным этапом в обработке данных, который позволяет обогатить основной набор данных дополнительной информацией.\n",
    "\n",
    "1. **Объединение с таблицей questions:**\n",
    "   - `train` содержит столбец `content_id`, который указывает на идентификатор контента, с которым взаимодействовал пользователь.\n",
    "   - В таблице `questions` также есть столбец `question_id`, который соответствует идентификатору вопроса.\n",
    "   - Объединяя эти таблицы по столбцам `content_id` и `question_id`, мы добавляем к данным из `train` характеристики вопросов (например, раздел теста, теги и правильный ответ), которые могут быть использованы для анализа взаимосвязи между контентом и успеваемостью пользователя.\n",
    "\n",
    "2. **Объединение с таблицей lectures:**\n",
    "   - В таблице `lectures` содержится информация о лекциях, которые пользователи просматривают, и их идентификаторы (столбец `lecture_id`).\n",
    "   - Чтобы избежать дублирования столбцов при объединении, добавляется префикс `lecture_` к названиям колонок из таблицы `lectures`.\n",
    "   - После этого происходит объединение данных из `train` с таблицей `lectures` по столбцам `content_id` и `lecture_lecture_id`. Таким образом, к данным пользователей добавляется информация о лекциях, которые они просматривали, что позволяет провести более детальный анализ влияния лекций на успеваемость.\n",
    "\n",
    "Таким образом, объединение этих таблиц позволяет создать более полный набор данных, включающий как информацию о вопросах, так и о лекциях, что дает возможность лучше понять поведение пользователей и выявить закономерности в их успеваемости."
   ]
  },
  {
   "cell_type": "code",
   "execution_count": 24,
   "metadata": {
    "collapsed": false,
    "jupyter": {
     "outputs_hidden": false
    },
    "pycharm": {
     "name": "#%%\n"
    }
   },
   "outputs": [],
   "source": [
    "# Объединение train с questions по content_id\n",
    "train = train.merge(questions, how=\"left\", left_on=\"content_id\", right_on=\"question_id\")\n",
    "\n",
    "# Объединение train с lectures\n",
    "lectures.columns = [f\"lecture_{col}\" for col in lectures.columns]  # Добавление префикса для уникальности колонок\n",
    "train = train.merge(lectures, how=\"left\", left_on=\"content_id\", right_on=\"lecture_lecture_id\")"
   ]
  },
  {
   "cell_type": "code",
   "execution_count": 25,
   "metadata": {
    "collapsed": false,
    "jupyter": {
     "outputs_hidden": false
    },
    "pycharm": {
     "name": "#%%\n"
    }
   },
   "outputs": [
    {
     "data": {
      "text/html": [
       "<div>\n",
       "<style scoped>\n",
       "    .dataframe tbody tr th:only-of-type {\n",
       "        vertical-align: middle;\n",
       "    }\n",
       "\n",
       "    .dataframe tbody tr th {\n",
       "        vertical-align: top;\n",
       "    }\n",
       "\n",
       "    .dataframe thead th {\n",
       "        text-align: right;\n",
       "    }\n",
       "</style>\n",
       "<table border=\"1\" class=\"dataframe\">\n",
       "  <thead>\n",
       "    <tr style=\"text-align: right;\">\n",
       "      <th></th>\n",
       "      <th>timestamp</th>\n",
       "      <th>user_id</th>\n",
       "      <th>content_id</th>\n",
       "      <th>content_type_id</th>\n",
       "      <th>task_container_id</th>\n",
       "      <th>user_answer</th>\n",
       "      <th>answered_correctly</th>\n",
       "      <th>prior_question_elapsed_time</th>\n",
       "      <th>prior_question_had_explanation</th>\n",
       "      <th>ts_bin</th>\n",
       "      <th>question_id</th>\n",
       "      <th>bundle_id</th>\n",
       "      <th>correct_answer</th>\n",
       "      <th>part</th>\n",
       "      <th>tags</th>\n",
       "      <th>lecture_lecture_id</th>\n",
       "      <th>lecture_tag</th>\n",
       "      <th>lecture_part</th>\n",
       "      <th>lecture_type_of</th>\n",
       "    </tr>\n",
       "  </thead>\n",
       "  <tbody>\n",
       "    <tr>\n",
       "      <th>0</th>\n",
       "      <td>0</td>\n",
       "      <td>115</td>\n",
       "      <td>5692</td>\n",
       "      <td>False</td>\n",
       "      <td>1</td>\n",
       "      <td>3</td>\n",
       "      <td>1</td>\n",
       "      <td>21000.0</td>\n",
       "      <td>False</td>\n",
       "      <td>Новички</td>\n",
       "      <td>5692.0</td>\n",
       "      <td>5692.0</td>\n",
       "      <td>3.0</td>\n",
       "      <td>5.0</td>\n",
       "      <td>151</td>\n",
       "      <td>NaN</td>\n",
       "      <td>NaN</td>\n",
       "      <td>NaN</td>\n",
       "      <td>NaN</td>\n",
       "    </tr>\n",
       "    <tr>\n",
       "      <th>1</th>\n",
       "      <td>56943</td>\n",
       "      <td>115</td>\n",
       "      <td>5716</td>\n",
       "      <td>False</td>\n",
       "      <td>2</td>\n",
       "      <td>2</td>\n",
       "      <td>1</td>\n",
       "      <td>37000.0</td>\n",
       "      <td>False</td>\n",
       "      <td>Новички</td>\n",
       "      <td>5716.0</td>\n",
       "      <td>5716.0</td>\n",
       "      <td>2.0</td>\n",
       "      <td>5.0</td>\n",
       "      <td>168</td>\n",
       "      <td>NaN</td>\n",
       "      <td>NaN</td>\n",
       "      <td>NaN</td>\n",
       "      <td>NaN</td>\n",
       "    </tr>\n",
       "    <tr>\n",
       "      <th>2</th>\n",
       "      <td>118363</td>\n",
       "      <td>115</td>\n",
       "      <td>128</td>\n",
       "      <td>False</td>\n",
       "      <td>0</td>\n",
       "      <td>0</td>\n",
       "      <td>1</td>\n",
       "      <td>55000.0</td>\n",
       "      <td>False</td>\n",
       "      <td>Новички</td>\n",
       "      <td>128.0</td>\n",
       "      <td>128.0</td>\n",
       "      <td>0.0</td>\n",
       "      <td>1.0</td>\n",
       "      <td>131 149 92</td>\n",
       "      <td>NaN</td>\n",
       "      <td>NaN</td>\n",
       "      <td>NaN</td>\n",
       "      <td>NaN</td>\n",
       "    </tr>\n",
       "    <tr>\n",
       "      <th>3</th>\n",
       "      <td>131167</td>\n",
       "      <td>115</td>\n",
       "      <td>7860</td>\n",
       "      <td>False</td>\n",
       "      <td>3</td>\n",
       "      <td>0</td>\n",
       "      <td>1</td>\n",
       "      <td>19000.0</td>\n",
       "      <td>False</td>\n",
       "      <td>Новички</td>\n",
       "      <td>7860.0</td>\n",
       "      <td>7860.0</td>\n",
       "      <td>0.0</td>\n",
       "      <td>1.0</td>\n",
       "      <td>131 104 81</td>\n",
       "      <td>NaN</td>\n",
       "      <td>NaN</td>\n",
       "      <td>NaN</td>\n",
       "      <td>NaN</td>\n",
       "    </tr>\n",
       "    <tr>\n",
       "      <th>4</th>\n",
       "      <td>137965</td>\n",
       "      <td>115</td>\n",
       "      <td>7922</td>\n",
       "      <td>False</td>\n",
       "      <td>4</td>\n",
       "      <td>1</td>\n",
       "      <td>1</td>\n",
       "      <td>11000.0</td>\n",
       "      <td>False</td>\n",
       "      <td>Новички</td>\n",
       "      <td>7922.0</td>\n",
       "      <td>7922.0</td>\n",
       "      <td>1.0</td>\n",
       "      <td>1.0</td>\n",
       "      <td>131 149 92</td>\n",
       "      <td>NaN</td>\n",
       "      <td>NaN</td>\n",
       "      <td>NaN</td>\n",
       "      <td>NaN</td>\n",
       "    </tr>\n",
       "    <tr>\n",
       "      <th>5</th>\n",
       "      <td>157063</td>\n",
       "      <td>115</td>\n",
       "      <td>156</td>\n",
       "      <td>False</td>\n",
       "      <td>5</td>\n",
       "      <td>2</td>\n",
       "      <td>1</td>\n",
       "      <td>5000.0</td>\n",
       "      <td>False</td>\n",
       "      <td>Новички</td>\n",
       "      <td>156.0</td>\n",
       "      <td>156.0</td>\n",
       "      <td>2.0</td>\n",
       "      <td>1.0</td>\n",
       "      <td>131 101 162 38</td>\n",
       "      <td>NaN</td>\n",
       "      <td>NaN</td>\n",
       "      <td>NaN</td>\n",
       "      <td>NaN</td>\n",
       "    </tr>\n",
       "    <tr>\n",
       "      <th>6</th>\n",
       "      <td>176092</td>\n",
       "      <td>115</td>\n",
       "      <td>51</td>\n",
       "      <td>False</td>\n",
       "      <td>6</td>\n",
       "      <td>0</td>\n",
       "      <td>1</td>\n",
       "      <td>17000.0</td>\n",
       "      <td>False</td>\n",
       "      <td>Новички</td>\n",
       "      <td>51.0</td>\n",
       "      <td>51.0</td>\n",
       "      <td>0.0</td>\n",
       "      <td>1.0</td>\n",
       "      <td>131 187 81</td>\n",
       "      <td>NaN</td>\n",
       "      <td>NaN</td>\n",
       "      <td>NaN</td>\n",
       "      <td>NaN</td>\n",
       "    </tr>\n",
       "    <tr>\n",
       "      <th>7</th>\n",
       "      <td>194190</td>\n",
       "      <td>115</td>\n",
       "      <td>50</td>\n",
       "      <td>False</td>\n",
       "      <td>7</td>\n",
       "      <td>3</td>\n",
       "      <td>1</td>\n",
       "      <td>17000.0</td>\n",
       "      <td>False</td>\n",
       "      <td>Новички</td>\n",
       "      <td>50.0</td>\n",
       "      <td>50.0</td>\n",
       "      <td>3.0</td>\n",
       "      <td>1.0</td>\n",
       "      <td>131 101 38</td>\n",
       "      <td>NaN</td>\n",
       "      <td>NaN</td>\n",
       "      <td>NaN</td>\n",
       "      <td>NaN</td>\n",
       "    </tr>\n",
       "    <tr>\n",
       "      <th>8</th>\n",
       "      <td>212463</td>\n",
       "      <td>115</td>\n",
       "      <td>7896</td>\n",
       "      <td>False</td>\n",
       "      <td>8</td>\n",
       "      <td>2</td>\n",
       "      <td>1</td>\n",
       "      <td>16000.0</td>\n",
       "      <td>False</td>\n",
       "      <td>Новички</td>\n",
       "      <td>7896.0</td>\n",
       "      <td>7896.0</td>\n",
       "      <td>2.0</td>\n",
       "      <td>1.0</td>\n",
       "      <td>131 104 162 81</td>\n",
       "      <td>NaN</td>\n",
       "      <td>NaN</td>\n",
       "      <td>NaN</td>\n",
       "      <td>NaN</td>\n",
       "    </tr>\n",
       "    <tr>\n",
       "      <th>9</th>\n",
       "      <td>230983</td>\n",
       "      <td>115</td>\n",
       "      <td>7863</td>\n",
       "      <td>False</td>\n",
       "      <td>9</td>\n",
       "      <td>0</td>\n",
       "      <td>1</td>\n",
       "      <td>16000.0</td>\n",
       "      <td>False</td>\n",
       "      <td>Новички</td>\n",
       "      <td>7863.0</td>\n",
       "      <td>7863.0</td>\n",
       "      <td>0.0</td>\n",
       "      <td>1.0</td>\n",
       "      <td>131 68 92</td>\n",
       "      <td>NaN</td>\n",
       "      <td>NaN</td>\n",
       "      <td>NaN</td>\n",
       "      <td>NaN</td>\n",
       "    </tr>\n",
       "  </tbody>\n",
       "</table>\n",
       "</div>"
      ],
      "text/plain": [
       "   timestamp  user_id  content_id  content_type_id  task_container_id  \\\n",
       "0          0      115        5692            False                  1   \n",
       "1      56943      115        5716            False                  2   \n",
       "2     118363      115         128            False                  0   \n",
       "3     131167      115        7860            False                  3   \n",
       "4     137965      115        7922            False                  4   \n",
       "5     157063      115         156            False                  5   \n",
       "6     176092      115          51            False                  6   \n",
       "7     194190      115          50            False                  7   \n",
       "8     212463      115        7896            False                  8   \n",
       "9     230983      115        7863            False                  9   \n",
       "\n",
       "  user_answer answered_correctly  prior_question_elapsed_time  \\\n",
       "0           3                  1                      21000.0   \n",
       "1           2                  1                      37000.0   \n",
       "2           0                  1                      55000.0   \n",
       "3           0                  1                      19000.0   \n",
       "4           1                  1                      11000.0   \n",
       "5           2                  1                       5000.0   \n",
       "6           0                  1                      17000.0   \n",
       "7           3                  1                      17000.0   \n",
       "8           2                  1                      16000.0   \n",
       "9           0                  1                      16000.0   \n",
       "\n",
       "   prior_question_had_explanation   ts_bin  question_id  bundle_id  \\\n",
       "0                           False  Новички       5692.0     5692.0   \n",
       "1                           False  Новички       5716.0     5716.0   \n",
       "2                           False  Новички        128.0      128.0   \n",
       "3                           False  Новички       7860.0     7860.0   \n",
       "4                           False  Новички       7922.0     7922.0   \n",
       "5                           False  Новички        156.0      156.0   \n",
       "6                           False  Новички         51.0       51.0   \n",
       "7                           False  Новички         50.0       50.0   \n",
       "8                           False  Новички       7896.0     7896.0   \n",
       "9                           False  Новички       7863.0     7863.0   \n",
       "\n",
       "   correct_answer  part            tags  lecture_lecture_id lecture_tag  \\\n",
       "0             3.0   5.0             151                 NaN         NaN   \n",
       "1             2.0   5.0             168                 NaN         NaN   \n",
       "2             0.0   1.0      131 149 92                 NaN         NaN   \n",
       "3             0.0   1.0      131 104 81                 NaN         NaN   \n",
       "4             1.0   1.0      131 149 92                 NaN         NaN   \n",
       "5             2.0   1.0  131 101 162 38                 NaN         NaN   \n",
       "6             0.0   1.0      131 187 81                 NaN         NaN   \n",
       "7             3.0   1.0      131 101 38                 NaN         NaN   \n",
       "8             2.0   1.0  131 104 162 81                 NaN         NaN   \n",
       "9             0.0   1.0       131 68 92                 NaN         NaN   \n",
       "\n",
       "   lecture_part lecture_type_of  \n",
       "0           NaN             NaN  \n",
       "1           NaN             NaN  \n",
       "2           NaN             NaN  \n",
       "3           NaN             NaN  \n",
       "4           NaN             NaN  \n",
       "5           NaN             NaN  \n",
       "6           NaN             NaN  \n",
       "7           NaN             NaN  \n",
       "8           NaN             NaN  \n",
       "9           NaN             NaN  "
      ]
     },
     "execution_count": 25,
     "metadata": {},
     "output_type": "execute_result"
    }
   ],
   "source": [
    "train.head(10)"
   ]
  },
  {
   "cell_type": "code",
   "execution_count": 26,
   "metadata": {
    "collapsed": false,
    "jupyter": {
     "outputs_hidden": false
    },
    "pycharm": {
     "name": "#%%\n"
    }
   },
   "outputs": [
    {
     "name": "stdout",
     "output_type": "stream",
     "text": [
      "<class 'pandas.core.frame.DataFrame'>\n",
      "RangeIndex: 999998 entries, 0 to 999997\n",
      "Data columns (total 19 columns):\n",
      " #   Column                          Non-Null Count   Dtype   \n",
      "---  ------                          --------------   -----   \n",
      " 0   timestamp                       999998 non-null  int64   \n",
      " 1   user_id                         999998 non-null  int32   \n",
      " 2   content_id                      999998 non-null  int16   \n",
      " 3   content_type_id                 999998 non-null  boolean \n",
      " 4   task_container_id               999998 non-null  int16   \n",
      " 5   user_answer                     980091 non-null  object  \n",
      " 6   answered_correctly              980091 non-null  object  \n",
      " 7   prior_question_elapsed_time     999998 non-null  float32 \n",
      " 8   prior_question_had_explanation  999998 non-null  boolean \n",
      " 9   ts_bin                          999998 non-null  category\n",
      " 10  question_id                     987814 non-null  float64 \n",
      " 11  bundle_id                       987814 non-null  float64 \n",
      " 12  correct_answer                  987814 non-null  float64 \n",
      " 13  part                            987814 non-null  float64 \n",
      " 14  tags                            987814 non-null  object  \n",
      " 15  lecture_lecture_id              32740 non-null   float64 \n",
      " 16  lecture_tag                     32740 non-null   object  \n",
      " 17  lecture_part                    32740 non-null   float64 \n",
      " 18  lecture_type_of                 32740 non-null   object  \n",
      "dtypes: boolean(2), category(1), float32(1), float64(6), int16(2), int32(1), int64(1), object(5)\n",
      "memory usage: 107.8+ MB\n"
     ]
    }
   ],
   "source": [
    "train.info()"
   ]
  },
  {
   "cell_type": "markdown",
   "metadata": {
    "collapsed": false,
    "jupyter": {
     "outputs_hidden": false
    },
    "pycharm": {
     "name": "#%% md\n"
    }
   },
   "source": [
    "Средняя точность пользователя (среднее значение столбца answered_correctly для каждого пользователя) помогает понять, насколько успешно каждый пользователь решает поставленные задачи.\n",
    "Это может быть полезно для выявления высокоэффективных пользователей, а также для понимания, какие факторы влияют на успех в обучении."
   ]
  },
  {
   "cell_type": "code",
   "execution_count": 27,
   "metadata": {
    "collapsed": false,
    "jupyter": {
     "outputs_hidden": false
    },
    "pycharm": {
     "name": "#%%\n"
    }
   },
   "outputs": [
    {
     "data": {
      "text/plain": [
       "count     3824.0\n",
       "unique    1658.0\n",
       "top          0.5\n",
       "freq       113.0\n",
       "Name: answered_correctly, dtype: float64"
      ]
     },
     "execution_count": 27,
     "metadata": {},
     "output_type": "execute_result"
    }
   ],
   "source": [
    "# Средняя точность пользователя\n",
    "user_accuracy = train.groupby('user_id')['answered_correctly'].mean()\n",
    "user_accuracy.describe()"
   ]
  },
  {
   "cell_type": "markdown",
   "metadata": {
    "collapsed": false,
    "jupyter": {
     "outputs_hidden": false
    },
    "pycharm": {
     "name": "#%% md\n"
    }
   },
   "source": [
    "**Результаты показывают, что:**\n",
    "\n",
    "* Средняя точность большинства пользователей находится на уровне около 50%, что может свидетельствовать о том, что система или тесты не слишком сложны или, наоборот, пользователи не обладают достаточными знаниями.\n",
    "* Значение top = 0.5 говорит о том, что 50% правильных ответов встречается наиболее часто среди пользователей, что может указывать на определённый порог сложности вопросов или баланс между правильными и неправильными ответами."
   ]
  },
  {
   "cell_type": "code",
   "execution_count": 28,
   "metadata": {
    "collapsed": false,
    "jupyter": {
     "outputs_hidden": false
    },
    "pycharm": {
     "name": "#%%\n"
    }
   },
   "outputs": [
    {
     "data": {
      "text/html": [
       "<div>\n",
       "<style scoped>\n",
       "    .dataframe tbody tr th:only-of-type {\n",
       "        vertical-align: middle;\n",
       "    }\n",
       "\n",
       "    .dataframe tbody tr th {\n",
       "        vertical-align: top;\n",
       "    }\n",
       "\n",
       "    .dataframe thead th {\n",
       "        text-align: right;\n",
       "    }\n",
       "</style>\n",
       "<table border=\"1\" class=\"dataframe\">\n",
       "  <thead>\n",
       "    <tr style=\"text-align: right;\">\n",
       "      <th></th>\n",
       "      <th>content_id</th>\n",
       "      <th>difficulty</th>\n",
       "    </tr>\n",
       "  </thead>\n",
       "  <tbody>\n",
       "    <tr>\n",
       "      <th>0</th>\n",
       "      <td>0</td>\n",
       "      <td>0.863014</td>\n",
       "    </tr>\n",
       "    <tr>\n",
       "      <th>1</th>\n",
       "      <td>1</td>\n",
       "      <td>0.927273</td>\n",
       "    </tr>\n",
       "    <tr>\n",
       "      <th>2</th>\n",
       "      <td>2</td>\n",
       "      <td>0.560811</td>\n",
       "    </tr>\n",
       "    <tr>\n",
       "      <th>3</th>\n",
       "      <td>3</td>\n",
       "      <td>0.798995</td>\n",
       "    </tr>\n",
       "    <tr>\n",
       "      <th>4</th>\n",
       "      <td>4</td>\n",
       "      <td>0.602606</td>\n",
       "    </tr>\n",
       "  </tbody>\n",
       "</table>\n",
       "</div>"
      ],
      "text/plain": [
       "   content_id difficulty\n",
       "0           0   0.863014\n",
       "1           1   0.927273\n",
       "2           2   0.560811\n",
       "3           3   0.798995\n",
       "4           4   0.602606"
      ]
     },
     "execution_count": 28,
     "metadata": {},
     "output_type": "execute_result"
    }
   ],
   "source": [
    "# Рассчитываем сложность вопросов\n",
    "question_difficulty = train.groupby('content_id')['answered_correctly'].mean().reset_index()\n",
    "question_difficulty.columns = ['content_id', 'difficulty']\n",
    "\n",
    "question_difficulty.head()"
   ]
  },
  {
   "cell_type": "markdown",
   "metadata": {
    "collapsed": false,
    "jupyter": {
     "outputs_hidden": false
    },
    "pycharm": {
     "name": "#%% md\n"
    }
   },
   "source": [
    "***Мы рассчитали сложность каждого вопроса на основе среднего значения правильных ответов (answered_correctly) для каждой группы вопросов (content_id), на основе полученных данных построим график распределения сложности.***\n",
    "\n",
    "---\n",
    "\n",
    "### Интерпретация результатов:\n",
    "**Значение сложности (difficulty):**\n",
    "- Близко к 1.0: Простые вопросы (большинство пользователей ответили правильно).\n",
    "- Близко к 0.0: Сложные вопросы (большинство пользователей ответили неправильно).\n",
    "- Средние значения (~0.5): Вопросы умеренной сложности, где примерно половина пользователей ошибалась."
   ]
  },
  {
   "cell_type": "code",
   "execution_count": 29,
   "metadata": {
    "collapsed": false,
    "jupyter": {
     "outputs_hidden": false
    },
    "pycharm": {
     "name": "#%%\n"
    }
   },
   "outputs": [
    {
     "data": {
      "image/png": "[encoded data removed]",
      "text/plain": [
       "<Figure size 640x480 with 1 Axes>"
      ]
     },
     "metadata": {},
     "output_type": "display_data"
    }
   ],
   "source": [
    "# Фильтрация строк, где сложность больше 0\n",
    "question_difficulty = question_difficulty[question_difficulty['difficulty'] > 0]\n",
    "\n",
    "# Распределение сложности вопросов\n",
    "sns.histplot(question_difficulty['difficulty'], bins=20, kde=True, color=\"green\")\n",
    "plt.title(\"Распределение сложности вопросов\")\n",
    "plt.xlabel(\"Сложность вопросов\")\n",
    "plt.ylabel(\"Количество вопросов\")\n",
    "plt.show()"
   ]
  },
  {
   "cell_type": "code",
   "execution_count": 30,
   "metadata": {
    "collapsed": false,
    "jupyter": {
     "outputs_hidden": false
    },
    "pycharm": {
     "name": "#%%\n"
    }
   },
   "outputs": [
    {
     "name": "stdout",
     "output_type": "stream",
     "text": [
      "Простые вопросы (сложность < 0.3):\n",
      "Количество простых вопросов: 375\n",
      "\n",
      "Сложные вопросы (сложность > 0.9):\n",
      "Количество сложных вопросов: 1939\n"
     ]
    }
   ],
   "source": [
    "# Выделение слабых вопросов (сложность < 0.3)\n",
    "weak_questions = question_difficulty[question_difficulty['difficulty'] < 0.3]\n",
    "\n",
    "# Выделение сильных вопросов (сложность > 0.9)\n",
    "strong_questions = question_difficulty[question_difficulty['difficulty'] > 0.9]\n",
    "\n",
    "# Сортировка для удобства анализа\n",
    "weak_questions_sorted = weak_questions.sort_values(by='difficulty')\n",
    "strong_questions_sorted = strong_questions.sort_values(by='difficulty', ascending=False)\n",
    "\n",
    "# Вывод результатов\n",
    "print(\"Простые вопросы (сложность < 0.3):\")\n",
    "print(f\"Количество простых вопросов: {weak_questions_sorted.shape[0]}\")\n",
    "\n",
    "print(\"\\nСложные вопросы (сложность > 0.9):\")\n",
    "print(f\"Количество сложных вопросов: {strong_questions_sorted.shape[0]}\")"
   ]
  },
  {
   "cell_type": "code",
   "execution_count": 31,
   "metadata": {
    "collapsed": false,
    "jupyter": {
     "outputs_hidden": false
    },
    "pycharm": {
     "name": "#%%\n"
    }
   },
   "outputs": [
    {
     "name": "stdout",
     "output_type": "stream",
     "text": [
      "Общее количество уникальных вопросов: 13076\n"
     ]
    }
   ],
   "source": [
    "# Подсчёт общего количества уникальных вопросов (content_type_id == 0)\n",
    "total_questions = train[train['content_type_id'] == 0]['content_id'].nunique()\n",
    "\n",
    "print(f\"Общее количество уникальных вопросов: {total_questions}\")"
   ]
  },
  {
   "cell_type": "code",
   "execution_count": 32,
   "metadata": {
    "collapsed": false,
    "jupyter": {
     "outputs_hidden": false
    },
    "pycharm": {
     "name": "#%%\n"
    }
   },
   "outputs": [
    {
     "data": {
      "image/png": "[encoded data removed]",
      "text/plain": [
       "<Figure size 640x480 with 1 Axes>"
      ]
     },
     "metadata": {},
     "output_type": "display_data"
    }
   ],
   "source": [
    "# Категоризация вопросов\n",
    "easy_questions = question_difficulty[question_difficulty['difficulty'] > 0.9]\n",
    "medium_questions = question_difficulty[(question_difficulty['difficulty'] >= 0.3) & (question_difficulty['difficulty'] <= 0.9)]\n",
    "hard_questions = question_difficulty[question_difficulty['difficulty'] < 0.3]\n",
    "\n",
    "# Подсчёт количества вопросов в каждой категории\n",
    "categories = ['Простые', 'Средние', 'Сложные']\n",
    "counts = [easy_questions.shape[0], medium_questions.shape[0], hard_questions.shape[0]]\n",
    "\n",
    "# Построение диаграммы\n",
    "import matplotlib.pyplot as plt\n",
    "\n",
    "plt.bar(categories, counts, color=['green', 'blue', 'red'])\n",
    "plt.title(\"Распределение вопросов по сложности\")\n",
    "plt.xlabel(\"Категория\")\n",
    "plt.ylabel(\"Количество вопросов\")\n",
    "plt.show()"
   ]
  },
  {
   "cell_type": "markdown",
   "metadata": {
    "collapsed": false,
    "jupyter": {
     "outputs_hidden": false
    },
    "pycharm": {
     "name": "#%% md\n"
    }
   },
   "source": [
    "- Простые вопросы (зелёный): Вопросы с высокой точностью ответов.\n",
    "- Средние вопросы (синий): Вопросы с умеренной точностью.\n",
    "- Сложные вопросы (красный): Вопросы с низкой точностью."
   ]
  },
  {
   "cell_type": "code",
   "execution_count": 33,
   "metadata": {
    "collapsed": false,
    "jupyter": {
     "outputs_hidden": false
    },
    "pycharm": {
     "name": "#%%\n"
    }
   },
   "outputs": [
    {
     "name": "stdout",
     "output_type": "stream",
     "text": [
      "Средняя успеваемость на простых вопросах: 0.92\n",
      "Средняя успеваемость на средних вопросах: 0.57\n",
      "Средняя успеваемость на сложных вопросах: 0.21\n"
     ]
    }
   ],
   "source": [
    "# Фильтрация данных для каждого типа вопросов\n",
    "easy_performance = train[train['content_id'].isin(easy_questions['content_id'])].groupby('user_id')['answered_correctly'].mean()\n",
    "medium_performance = train[train['content_id'].isin(medium_questions['content_id'])].groupby('user_id')['answered_correctly'].mean()\n",
    "hard_performance = train[train['content_id'].isin(hard_questions['content_id'])].groupby('user_id')['answered_correctly'].mean()\n",
    "\n",
    "# Вычисляем среднюю успеваемость в каждой категории\n",
    "easy_avg = easy_performance.mean()\n",
    "medium_avg = medium_performance.mean()\n",
    "hard_avg = hard_performance.mean()\n",
    "\n",
    "print(f\"Средняя успеваемость на простых вопросах: {round(easy_avg, 2)}\")\n",
    "print(f\"Средняя успеваемость на средних вопросах: {round(medium_avg, 2)}\")\n",
    "print(f\"Средняя успеваемость на сложных вопросах: {round(hard_avg, 2)}\")"
   ]
  },
  {
   "cell_type": "code",
   "execution_count": 34,
   "metadata": {
    "collapsed": false,
    "jupyter": {
     "outputs_hidden": false
    },
    "pycharm": {
     "name": "#%%\n"
    }
   },
   "outputs": [
    {
     "data": {
      "image/png": "[encoded data removed]",
      "text/plain": [
       "<Figure size 640x480 with 1 Axes>"
      ]
     },
     "metadata": {},
     "output_type": "display_data"
    }
   ],
   "source": [
    "# Средняя успеваемость для каждой категории\n",
    "categories_performance = [easy_avg, medium_avg, hard_avg]\n",
    "\n",
    "# Построение диаграммы\n",
    "categories = ['Простые', 'Средние', 'Сложные']\n",
    "plt.bar(categories, categories_performance, color=['green', 'blue', 'red'])\n",
    "plt.title(\"Успеваемость студентов по категориям сложности вопросов\")\n",
    "plt.xlabel(\"Категория сложности\")\n",
    "plt.ylabel(\"Средняя успеваемость\")\n",
    "plt.show()"
   ]
  },
  {
   "cell_type": "markdown",
   "metadata": {
    "collapsed": false,
    "jupyter": {
     "outputs_hidden": false
    },
    "pycharm": {
     "name": "#%% md\n"
    }
   },
   "source": [
    "**Средняя успеваемость на простых вопросах: 0.92**\n",
    "   - Это означает, что студенты, как правило, хорошо справляются с простыми вопросами, так как их **успешность близка к 92%**. Это может свидетельствовать о том, что студенты обладают достаточной подготовленностью или имеют достаточно знаний для выполнения этих вопросов.\n",
    "\n",
    "**Средняя успеваемость на средних вопросах: 0.57**\n",
    "   - Здесь мы видим значительное снижение успеваемости по сравнению с простыми вопросами (с 0.92 до 0.57). Это может свидетельствовать о том, что студенты сталкиваются с трудностями, когда вопросы становятся более сложными и требуют более глубокого понимания материала.\n",
    "\n",
    "**Средняя успеваемость на сложных вопросах: 0.24**\n",
    "   - Этот результат ещё более показателен, поскольку **успешность студентов на сложных вопросах составляет всего 24%**. Это свидетельствует о том, что сложные вопросы представляют собой серьёзную проблему для студентов.\n",
    "\n",
    "---\n",
    "\n",
    "Эти результаты подтверждают, что с увеличением сложности вопросов успеваемость студентов значительно снижается."
   ]
  },
  {
   "cell_type": "code",
   "execution_count": 35,
   "metadata": {
    "collapsed": false,
    "jupyter": {
     "outputs_hidden": false
    },
    "pycharm": {
     "name": "#%%\n"
    }
   },
   "outputs": [
    {
     "name": "stdout",
     "output_type": "stream",
     "text": [
      "Процент правильных ответов с объяснением: 61.11%\n",
      "Процент правильных ответов без объяснения: 47.60%\n",
      "Процентное увеличение: 28.39%\n"
     ]
    }
   ],
   "source": [
    "# Рассчитываем процент правильных ответов для вопросов с объяснением\n",
    "explanation_correct = train[train['prior_question_had_explanation'] == True].groupby('user_id')['answered_correctly'].mean()\n",
    "\n",
    "# Рассчитываем процент правильных ответов для вопросов без объяснения\n",
    "no_explanation_correct = train[train['prior_question_had_explanation'] == False].groupby('user_id')['answered_correctly'].mean()\n",
    "\n",
    "# Вычисляем средние значения\n",
    "mean_explanation = explanation_correct.mean()\n",
    "mean_no_explanation = no_explanation_correct.mean()\n",
    "\n",
    "# Рассчитываем процентное увеличение\n",
    "percentage_increase = ((mean_explanation - mean_no_explanation) / mean_no_explanation) * 100\n",
    "\n",
    "# Выводим результат\n",
    "print(f\"Процент правильных ответов с объяснением: {mean_explanation * 100:.2f}%\")\n",
    "print(f\"Процент правильных ответов без объяснения: {mean_no_explanation * 100:.2f}%\")\n",
    "print(f\"Процентное увеличение: {percentage_increase:.2f}%\")"
   ]
  },
  {
   "cell_type": "markdown",
   "metadata": {
    "collapsed": false,
    "jupyter": {
     "outputs_hidden": false
    },
    "pycharm": {
     "name": "#%% md\n"
    }
   },
   "source": [
    "Средний процент правильных ответов среди пользователей, которые получали объяснение к вопросам, составил 61.11%. В то время как для пользователей, которые не получали объяснений, этот показатель был значительно ниже — 47.60%. Это указывает на то, что наличие объяснений значительно повышает эффективность ответов студентов.\n",
    "\n",
    "Процентное увеличение точности ответов с объяснением по сравнению с отсутствием объяснений составил 28.39%. Это свидетельствует о том, что объяснение влияет на улучшение понимания материала и, соответственно, на повышение успеваемости студентов."
   ]
  },
  {
   "cell_type": "code",
   "execution_count": 36,
   "metadata": {
    "collapsed": false,
    "jupyter": {
     "outputs_hidden": false
    },
    "pycharm": {
     "name": "#%%\n"
    }
   },
   "outputs": [
    {
     "name": "stdout",
     "output_type": "stream",
     "text": [
      "Среднее время на простых вопросах: 24.61 секунд\n",
      "Среднее время на средних вопросах: 25.24 секунд\n",
      "Среднее время на сложных вопросах: 26.36 секунд\n"
     ]
    }
   ],
   "source": [
    "# Фильтрация данных для каждой категории сложности\n",
    "easy_time = train[train['content_id'].isin(easy_questions['content_id'])]['prior_question_elapsed_time'].mean() / 1000\n",
    "medium_time = train[train['content_id'].isin(medium_questions['content_id'])]['prior_question_elapsed_time'].mean() / 1000\n",
    "hard_time = train[train['content_id'].isin(hard_questions['content_id'])]['prior_question_elapsed_time'].mean() / 1000\n",
    "\n",
    "# Вывод среднего времени\n",
    "print(f\"Среднее время на простых вопросах: {easy_time:.2f} секунд\")\n",
    "print(f\"Среднее время на средних вопросах: {medium_time:.2f} секунд\")\n",
    "print(f\"Среднее время на сложных вопросах: {hard_time:.2f} секунд\")"
   ]
  },
  {
   "cell_type": "markdown",
   "metadata": {
    "collapsed": false,
    "jupyter": {
     "outputs_hidden": false
    },
    "pycharm": {
     "name": "#%% md\n"
    }
   },
   "source": [
    "**Среднее время на решение вопросов ожидаемо увеличивается с ростом их сложности.**"
   ]
  },
  {
   "cell_type": "code",
   "execution_count": 37,
   "metadata": {
    "collapsed": false,
    "jupyter": {
     "outputs_hidden": false
    },
    "pycharm": {
     "name": "#%%\n"
    }
   },
   "outputs": [
    {
     "name": "stdout",
     "output_type": "stream",
     "text": [
      "   Количество\n",
      "0      297300\n",
      "1      592586\n",
      "0 — это неправильный ответ.\n",
      "1 — это правильный ответ.\n"
     ]
    }
   ],
   "source": [
    "# Агрегирование данных для анализа количества объяснений\n",
    "explanation_analysis = train[train['answered_correctly'] != -1].groupby('answered_correctly')['prior_question_had_explanation'].sum()\n",
    "\n",
    "# Создание DataFrame с результатами\n",
    "explanation_analysis_df = pd.DataFrame({\n",
    "    'Количество': explanation_analysis\n",
    "})\n",
    "\n",
    "# Сбрасываем индекс, чтобы он не выводился\n",
    "explanation_analysis_df_reset = explanation_analysis_df.reset_index(drop=True)\n",
    "\n",
    "# Выводим результаты\n",
    "print(explanation_analysis_df_reset)\n",
    "print(\"\"\"0 — это неправильный ответ.\n",
    "1 — это правильный ответ.\"\"\")"
   ]
  },
  {
   "cell_type": "markdown",
   "metadata": {
    "collapsed": false,
    "jupyter": {
     "outputs_hidden": false
    },
    "pycharm": {
     "name": "#%% md\n"
    }
   },
   "source": [
    "**Наличие объяснения предыдущего задания (prior_question_had_explanation)**:\n",
    "   - Если студент видел объяснение предыдущей задачи, вероятность правильного ответа увеличивается почти в 2 раза. Это подтверждает важность наличия объяснений для повышения понимания и усвоения материала. Студенты, которые получили объяснение, могут использовать эту информацию для успешного выполнения последующих заданий."
   ]
  },
  {
   "cell_type": "markdown",
   "metadata": {
    "collapsed": false,
    "jupyter": {
     "outputs_hidden": false
    },
    "pycharm": {
     "name": "#%% md\n"
    }
   },
   "source": [
    "# Заключение:\n",
    "\n",
    "- Количество вопросов: 13523;\n",
    "- 65% ответов были правильными, а 35% — неправильными;\n",
    "- 98% всех действий студентов связано с ответами на вопросы и только 2% на изучение лекций;\n",
    "- Корреляция между количеством вопросов и успеваемостью: с увеличением числа вопросов, на которые пользователи отвечают, их успеваемость немного повышается;\n",
    "- Корреляция между количеством лекций и успеваемостью: просмотр лекций может слегка повышать успеваемость;\n",
    "- Зарегистрировавшиеся относительно недавно, показывают немного худшие результаты по успеваемости, чем те, кто использует платформу дольше;\n",
    "- Средняя точность большинства пользователей находится на уровне около 50%;\n",
    "- С увеличением сложности вопросов успеваемость студентов значительно снижается;\n",
    "- Среднее время на решение вопросов ожидаемо увеличивается с ростом их сложности;\n",
    "- Объяснение влияет на улучшение понимания материала и, соответственно, на повышение успеваемости студентов. Студенты, которые получили объяснение, могут использовать эту информацию для успешного выполнения последующих заданий.;\n"
   ]
  }
 ],
 "metadata": {
  "kernelspec": {
   "display_name": "Python 3 (ipykernel)",
   "language": "python",
   "name": "python3"
  },
  "language_info": {
   "codemirror_mode": {
    "name": "ipython",
    "version": 3
   },
   "file_extension": ".py",
   "mimetype": "text/x-python",
   "name": "python",
   "nbconvert_exporter": "python",
   "pygments_lexer": "ipython3",
   "version": "3.11.8"
  }
 },
 "nbformat": 4,
 "nbformat_minor": 4
}